{
  "nbformat": 4,
  "nbformat_minor": 0,
  "metadata": {
    "colab": {
      "name": "Aprendizaje_No_Supervisado.ipynb",
      "version": "0.3.2",
      "provenance": [],
      "collapsed_sections": []
    },
    "kernelspec": {
      "name": "python2",
      "display_name": "Python 2"
    },
    "accelerator": "GPU"
  },
  "cells": [
    {
      "cell_type": "markdown",
      "metadata": {
        "id": "hYswZ8e19W5E",
        "colab_type": "text"
      },
      "source": [
        "# Aprendizaje No Supervisado: Autoencoders\n",
        "\n",
        "**Author:** Jhosimar George Arias Figueroa"
      ]
    },
    {
      "cell_type": "markdown",
      "metadata": {
        "id": "jwTvRhF49lnA",
        "colab_type": "text"
      },
      "source": [
        "En este notebook, veremos cómo aplicar técnicas de deep learning a la tarea de aprendizaje no supervisado mediante el uso de Autoencoders.\n",
        "\n",
        "Este notebook analizará temas como redes neuronales fully connected (FC), Vanilla Autoencoders, Denoising Autoencoders y clustering.\n",
        "\n",
        "### Aplicaciones\n",
        "\n",
        "\n",
        "- Dimensionality reduction\n",
        "- Feature learning\n",
        "- Denoising or filling holes"
      ]
    },
    {
      "cell_type": "markdown",
      "metadata": {
        "id": "ne-20zgH-jyu",
        "colab_type": "text"
      },
      "source": [
        "## Setup\n",
        "\n",
        "Comencemos importando las bibliotecas y funciones que necesitaremos."
      ]
    },
    {
      "cell_type": "code",
      "metadata": {
        "id": "DRFwThh39c3L",
        "colab_type": "code",
        "outputId": "92ba9c34-4fae-4625-bd3e-7f4aa4133278",
        "colab": {
          "base_uri": "https://localhost:8080/",
          "height": 34
        }
      },
      "source": [
        "import tensorflow as tf\n",
        "import numpy as np\n",
        "from keras.datasets import mnist\n",
        "import matplotlib.pyplot as plt\n",
        "%matplotlib inline"
      ],
      "execution_count": 1,
      "outputs": [
        {
          "output_type": "stream",
          "text": [
            "Using TensorFlow backend.\n"
          ],
          "name": "stderr"
        }
      ]
    },
    {
      "cell_type": "markdown",
      "metadata": {
        "id": "2zM0iMbI_SHR",
        "colab_type": "text"
      },
      "source": [
        "##MNIST Dataset\n",
        "\n",
        "El conjunto de datos MNIST consta de 70000 dígitos escritos a mano con un tamaño de 28 × 28 píxeles y 10 clases, de los cuales 60000 imágenes se consideran para entrenamiento y 10000 imágenes para pruebas. Este conjunto de datos se puede obtener directamente desde el [framework de Keras](https://keras.io/datasets/)."
      ]
    },
    {
      "cell_type": "code",
      "metadata": {
        "id": "rrYopyVe-vLf",
        "colab_type": "code",
        "outputId": "51f304c7-368b-4624-e8da-aceccb134a8f",
        "colab": {
          "base_uri": "https://localhost:8080/",
          "height": 104
        }
      },
      "source": [
        "print(\"Loading mnist dataset...\")\n",
        "\n",
        "# cargar datos mnist\n",
        "(X_train, Y_train), (X_test, Y_test) = mnist.load_data()\n",
        "\n",
        "# imprimir dimension de cada dataset\n",
        "print('Train size: ', X_train.shape, ' Test size: ', X_test.shape)"
      ],
      "execution_count": 2,
      "outputs": [
        {
          "output_type": "stream",
          "text": [
            "Loading mnist dataset...\n",
            "Downloading data from https://s3.amazonaws.com/img-datasets/mnist.npz\n",
            "11493376/11490434 [==============================] - 1s 0us/step\n",
            "11501568/11490434 [==============================] - 1s 0us/step\n",
            "('Train size: ', (60000, 28, 28), ' Test size: ', (10000, 28, 28))\n"
          ],
          "name": "stdout"
        }
      ]
    },
    {
      "cell_type": "markdown",
      "metadata": {
        "id": "nnYu5G_nC9Z_",
        "colab_type": "text"
      },
      "source": [
        "##Visualización de la data\n",
        "\n",
        "Revisemos que tipo de imágenes contiene el dataset."
      ]
    },
    {
      "cell_type": "code",
      "metadata": {
        "id": "WRC2V0uQC_fW",
        "colab_type": "code",
        "outputId": "d3b4ae59-2833-4402-9700-2dc90b48fbb4",
        "colab": {
          "base_uri": "https://localhost:8080/",
          "height": 595
        }
      },
      "source": [
        "plt.figure(figsize=[10,10])\n",
        "for i in range(0,100):\n",
        "  plt.subplot(10,10,i+1)\n",
        "  plt.imshow(X_train[i], interpolation='none',cmap=plt.get_cmap('gray'))\n",
        "  plt.axis('off')"
      ],
      "execution_count": 3,
      "outputs": [
        {
          "output_type": "display_data",
          "data": {
            "image/png": "[encoded data removed]",
            "text/plain": [
              "<Figure size 720x720 with 100 Axes>"
            ]
          },
          "metadata": {
            "tags": []
          }
        }
      ]
    },
    {
      "cell_type": "markdown",
      "metadata": {
        "id": "nrXcsupe_0ZO",
        "colab_type": "text"
      },
      "source": [
        "## Preprocesamiento los datos\n",
        "\n",
        "\n",
        "Nuestro modelo recibirá data basada en tipos de datos y tamaños específicos. Por lo tanto es necesario modificarlos:\n",
        "\n",
        "- Tipos de datos: los datos de entrada son de tipo float32 mientras que las etiquetas son de tipo int32.\n",
        "- Tamaños: los datos de entrada son de tamaño (num_elementos, num_features).\n",
        "\n",
        "Adicionalmente, un paso muy importante es normalizar los datos para que esten en el rango [0,1]."
      ]
    },
    {
      "cell_type": "code",
      "metadata": {
        "id": "zzNpdYui_6KU",
        "colab_type": "code",
        "outputId": "26e2ca1e-96c7-41cc-d5fe-e345163e5f01",
        "colab": {
          "base_uri": "https://localhost:8080/",
          "height": 34
        }
      },
      "source": [
        "def flatten_array(x):\n",
        "  shape = np.prod(x.shape[1:])\n",
        "  return x.reshape(-1,shape)\n",
        "\n",
        "def data_preprocessing(X_train, Y_train, X_test, Y_test, flatten=False):\n",
        "  ## Cambiar tipos de datos\n",
        "  x_train = X_train.astype(np.float32)\n",
        "  x_test = X_test.astype(np.float32)\n",
        "  y_train = Y_train.astype(np.int32)\n",
        "  y_test = Y_test.astype(np.int32)\n",
        "\n",
        "  if flatten:\n",
        "    ## Flatten data\n",
        "    x_train = flatten_array(x_train)\n",
        "    x_test = flatten_array(x_test)\n",
        "\n",
        "  # normalizar data para estar en el rango [0,1]\n",
        "  x_train = x_train / 255.0\n",
        "  x_test = x_test / 255.0\n",
        "  \n",
        "  return x_train, y_train, x_test, y_test\n",
        "\n",
        "x_train_prep, y_train_prep, x_test, y_test = data_preprocessing(X_train, Y_train, X_test, Y_test, True)\n",
        "print('New train size: ', x_train_prep.shape, ' New test size: ', x_test.shape)"
      ],
      "execution_count": 4,
      "outputs": [
        {
          "output_type": "stream",
          "text": [
            "('New train size: ', (60000, 784), ' New test size: ', (10000, 784))\n"
          ],
          "name": "stdout"
        }
      ]
    },
    {
      "cell_type": "markdown",
      "metadata": {
        "id": "EkhoxY3OEPYS",
        "colab_type": "text"
      },
      "source": [
        "## Particionamiento de Datos\n",
        "\n",
        "Dividimos los datos de entrenamiento en (entrenamiento, validación) de acuerdo con al porcentaje deseado:"
      ]
    },
    {
      "cell_type": "code",
      "metadata": {
        "id": "vPcuz1dHEmLK",
        "colab_type": "code",
        "outputId": "e3e1284c-99d0-445f-8843-d962e615cc4c",
        "colab": {
          "base_uri": "https://localhost:8080/",
          "height": 69
        }
      },
      "source": [
        "def partition_train_set(data, labels, proportion=0.8):\n",
        "  num_samples = data.shape[0]\n",
        "  indices = np.random.permutation(num_samples)\n",
        "  train_size = int(proportion * num_samples)\n",
        "  train_indices, val_indices = indices[:train_size], indices[train_size:]\n",
        "  train_data, train_labels = data[train_indices], labels[train_indices]\n",
        "  val_data, val_labels = data[val_indices], labels[val_indices]\n",
        "  return train_data, train_labels, val_data, val_labels\n",
        "\n",
        "# hold out split - por defecto: 80% training and 20% validation\n",
        "x_train, y_train, x_val, y_val = partition_train_set(x_train_prep, y_train_prep, 0.8)\n",
        "\n",
        "# imprimimos dataset particionado\n",
        "print(\"Train size: \", x_train.shape)\n",
        "print(\"Validation size: \", x_val.shape)\n",
        "print(\"Test size: \", x_test.shape)"
      ],
      "execution_count": 5,
      "outputs": [
        {
          "output_type": "stream",
          "text": [
            "('Train size: ', (48000, 784))\n",
            "('Validation size: ', (12000, 784))\n",
            "('Test size: ', (10000, 784))\n"
          ],
          "name": "stdout"
        }
      ]
    },
    {
      "cell_type": "markdown",
      "metadata": {
        "id": "K-I74cGOAnUm",
        "colab_type": "text"
      },
      "source": [
        "## Preparación: Clase Dataset\n",
        "\n",
        "Para nuestra propia conveniencia, definiremos una clase Dataset que nos permita iterar sobre datos y etiquetas. Esta no es la forma más flexible o eficiente de recorrer los datos, pero servirá para nuestros propósitos."
      ]
    },
    {
      "cell_type": "code",
      "metadata": {
        "id": "OLfZjKw8AFY_",
        "colab_type": "code",
        "colab": {}
      },
      "source": [
        "class Dataset(object):\n",
        "  def __init__(self, X, y, batch_size, shuffle=False):\n",
        "    \"\"\"\n",
        "    Creamos un objeto Dataset para iterar sobre la data\n",
        "        \n",
        "    Entradas:\n",
        "    - X: Numpy array de datos, de cualquier dimensión\n",
        "    - y: Numpy array de labels, de cualquier dimensión pero con y.shape[0] == X.shape[0]\n",
        "    - batch_size: Entero especificando el número de elements por minibatch\n",
        "    - shuffle: (opcional) Boolean, si se desea aleatorizar la data en cada época\n",
        "    \"\"\"\n",
        "    assert X.shape[0] == y.shape[0], 'Se ingresó número diferente de datos y labels'\n",
        "    self.X, self.y = X, y\n",
        "    self.batch_size, self.shuffle = batch_size, shuffle\n",
        "    self.num_batches = int(np.ceil(X.shape[0]/self.batch_size))\n",
        "    self.num_elements = X.shape[0]\n",
        "\n",
        "  def __iter__(self):\n",
        "    N, B = self.X.shape[0], self.batch_size\n",
        "    idxs = np.arange(N)\n",
        "    if self.shuffle:\n",
        "      np.random.shuffle(idxs)\n",
        "    return iter((self.X[i:i+B], self.y[i:i+B]) for i in range(0, N, B))\n",
        "\n",
        "\n",
        "train_dset = Dataset(x_train, y_train, batch_size=64, shuffle=True)\n",
        "val_dset = Dataset(x_val, y_val, batch_size=64, shuffle=False)\n",
        "test_dset = Dataset(x_test, y_test, batch_size=64)"
      ],
      "execution_count": 0,
      "outputs": []
    },
    {
      "cell_type": "code",
      "metadata": {
        "id": "WiSHEQKrHof2",
        "colab_type": "code",
        "outputId": "dc0866a3-4c20-48c3-e2e2-2e0d5b2c4e3f",
        "colab": {
          "base_uri": "https://localhost:8080/",
          "height": 156
        }
      },
      "source": [
        "print(\"Number of batches: \", train_dset.num_batches)\n",
        "\n",
        "# Podemos iterar a través del conjunto de datos:\n",
        "for t, (x, y) in enumerate(train_dset):\n",
        "  print(t, x.shape, y.shape)\n",
        "  if t > 5: break"
      ],
      "execution_count": 7,
      "outputs": [
        {
          "output_type": "stream",
          "text": [
            "('Number of batches: ', 750)\n",
            "(0, (64, 784), (64,))\n",
            "(1, (64, 784), (64,))\n",
            "(2, (64, 784), (64,))\n",
            "(3, (64, 784), (64,))\n",
            "(4, (64, 784), (64,))\n",
            "(5, (64, 784), (64,))\n",
            "(6, (64, 784), (64,))\n"
          ],
          "name": "stdout"
        }
      ]
    },
    {
      "cell_type": "markdown",
      "metadata": {
        "id": "Y1N7Gn-gBSRY",
        "colab_type": "text"
      },
      "source": [
        "## Modelo de Autoencoder\n",
        "\n",
        "Un autoencoder consta de dos componentes: (1) un **codificador (encoder)** que aprende la representación de datos $z$, es decir, las características importantes de un dato determinado x, y (2) un **decodificador (decoder)** que reconstruye el datos $\\hat{x}$ a partir de $z$.\n",
        "$$ z = f\\big(h_{e}(x)\\big)$$\n",
        "$$ \\hat{x} = f\\big(h_{d}(z)\\big)$$\n",
        "donde $z$ es la representación de datos aprendidos por el codificador $h_{e}$, y $\\hat{x}$ son los datos reconstruidos por el decodificador $h_{d}$ basado en $z$."
      ]
    },
    {
      "cell_type": "markdown",
      "metadata": {
        "id": "d-ER_2NvGeZp",
        "colab_type": "text"
      },
      "source": [
        "### Red Codificadora (Encoder) y Decodificadora (Decoder)\n",
        "\n",
        "Realizaremos la implementación de ambas redes usando Multi-Layer Perceptron."
      ]
    },
    {
      "cell_type": "code",
      "metadata": {
        "id": "XZBNgit3Fjrm",
        "colab_type": "code",
        "colab": {}
      },
      "source": [
        "class Networks():\n",
        "  \n",
        "  def encoder(self, input_data, feature_size):\n",
        "    ## Encoder Network used to learn a deterministic feature vector z\n",
        "    reuse = len(tf.get_collection(tf.GraphKeys.VARIABLES, scope='encoder_fc')) > 0\n",
        "    with tf.variable_scope('encoder_fc', reuse=reuse):\n",
        "      input_flatten = tf.layers.flatten(input_data)\n",
        "      h1 = tf.layers.dense(input_flatten, units=512, activation=tf.nn.relu)\n",
        "      h2 = tf.layers.dense(h1, units=256, activation=tf.nn.relu)\n",
        "      z = tf.layers.dense(h2, units=feature_size)\n",
        "    return z\n",
        "  \n",
        "  \n",
        "  def decoder(self, z, output_size):\n",
        "    ## Decoder Network used to reconstruct the original input given the vector z\n",
        "    reuse = len(tf.get_collection(tf.GraphKeys.VARIABLES, scope='decoder_fc')) > 0\n",
        "    with tf.variable_scope('decoder_fc', reuse=reuse):\n",
        "      h3 = tf.layers.dense(z, units=256, activation=tf.nn.relu)\n",
        "      h4 = tf.layers.dense(h3, units=512, activation=tf.nn.relu)\n",
        "      out = tf.layers.dense(h4, units=output_size, activation=tf.nn.sigmoid)\n",
        "    return out\n",
        "  \n",
        " \n",
        "  def encoder_decoder(self, input_data, feature_size, output_size):\n",
        "    ## Model that combines both encoder and decoder\n",
        "    z = self.encoder(input_data, feature_size)\n",
        "    out = self.decoder(z, output_size)\n",
        "    return out"
      ],
      "execution_count": 0,
      "outputs": []
    },
    {
      "cell_type": "markdown",
      "metadata": {
        "id": "CNBKEnlQJeZz",
        "colab_type": "text"
      },
      "source": [
        "## Error de Reconstrucción\n",
        "\n",
        "Solo discutimos y construimos el modelo, pero no hablamos sobre cómo realmente aprende. Todo lo que sabemos hasta este punto es el flujo de aprendizaje de la capa de entrada del codificador que supuestamente aprende la representación de los datos y utiliza esa representación como entrada al decodificador que reconstruye los datos originales. Al igual que las redes neuronales \"simples\", un autocodificador aprende a través de backpropagation. Sin embargo, en lugar de comparar los valores o etiquetas del modelo, comparamos los datos reconstruidos y los datos originales. Llamemos a esta comparación la función de error de reconstrucción.\n",
        "\n",
        "### Error Cuadrático Medio (MSE)\n",
        "una forma de realizar la reconstrucción es mediante el error cuadrático medio, el cual está dado por la siguiente ecuación:\n",
        "\n",
        "$$L = \\dfrac{1}{n}\\sum_{i = 0}^{n}\\big (\\hat{x}_{i} - x_{i}\\big) ^ {2}$$ \n",
        "\n",
        "donde $\\hat{x}$ son los datos reconstruidos, mientras que $x$ son los datos originales. \n",
        "\n",
        "### Entropía Cruzada Binaria (BCE)\n",
        "Otra forma de medir el error de reconstrucción es mediante la entropía cruzada binaria (Binary Cross-Entropy - BCE), ya que la distribución de probabilidad para el dataset MNIST sigue una distribución de Bernoulli, por lo tanto está función de pérdida es mayormente la más adecuada. BCE está dado por:\n",
        "\n",
        "$$L = -\\sum_{i = 0}^{n} x_{i} \\log \\hat{x}_{i} + \\big (1 - x_{i} \\big)\\log \\big(1 - \\hat{x}_{i}\\big) $$\n",
        "donde $\\hat{x}$ son los datos reconstruidos, mientras que $x$ son los datos originales. "
      ]
    },
    {
      "cell_type": "code",
      "metadata": {
        "id": "_gW2-ht5Jz_G",
        "colab_type": "code",
        "colab": {}
      },
      "source": [
        "class LossFunction():\n",
        "  eps = 1e-8\n",
        "    \n",
        "  def binary_cross_entropy(self, real, predictions):\n",
        "    \"\"\"Binary Cross Entropy entre los datos reales y la predicción\n",
        "       loss = (1/n) * -Σ(real*log(predicted) + (1 - real)*log(1 - predicted))\n",
        "       \n",
        "    Args:\n",
        "       real: (array) matriz conteniendo los datos reales\n",
        "       predictions: (array) matriz conteniendo las predicciones\n",
        " \n",
        "    Returns:\n",
        "       output: (array/float) promedio del error por batch\n",
        "       \n",
        "    \"\"\"\n",
        "    loss = -tf.reduce_sum(real * tf.log(predictions + self.eps) + \n",
        "                         (1 - real) * tf.log(1 - predictions + self.eps), axis = 1)\n",
        "    return tf.reduce_mean(loss)\n",
        "  \n",
        "  \n",
        "  def mean_squared_error(self, real, predictions):\n",
        "    \"\"\"Mean Squared Error  entre los datos reales y la predicción\n",
        "       loss = (1/n)*Σ(real - predicted)^2\n",
        "\n",
        "    Args:\n",
        "       real: (array) matriz conteniendo los datos reales\n",
        "       predictions: (array) matriz conteniendo las predicciones\n",
        " \n",
        "    Returns:\n",
        "       output: (array/float) promedio del error por batch\n",
        "       \n",
        "    \"\"\"\n",
        "    loss = tf.square(real - predictions)\n",
        "    return tf.reduce_mean(loss)\n"
      ],
      "execution_count": 0,
      "outputs": []
    },
    {
      "cell_type": "markdown",
      "metadata": {
        "id": "zdAAddVaG10Z",
        "colab_type": "text"
      },
      "source": [
        "### Modelo Autoencoder\n",
        "\n",
        "Dadas las implementaciones de las redes encoder, decoder y la función de pérdida, procederemos con la implementación del modelo Autoencoder que hará uso de dichas implementaciones durante la fase de entrenamiento y validación."
      ]
    },
    {
      "cell_type": "code",
      "metadata": {
        "id": "_WLHaBG6HiMD",
        "colab_type": "code",
        "colab": {}
      },
      "source": [
        "class Autoencoder():\n",
        "  \n",
        "  def __init__(self, **params):\n",
        "    tf.reset_default_graph()\n",
        "    ## Hiperparametros\n",
        "    self.learning_rate = params.get(\"learning_rate\", 1e-2)\n",
        "    self.feature_size = params.get(\"feature_size\", 64)\n",
        "    self.num_epochs = params.get(\"epochs\", 10)\n",
        "    self.loss_type = params.get(\"loss_type\", \"mse\")\n",
        "    self.network = Networks()\n",
        "    self.losses = LossFunction()\n",
        "    self.sess = tf.Session()\n",
        "  \n",
        "  \n",
        "  def evaluate(self, val_dset):\n",
        "    ## Función para evaluar el modelo en un determinado dataset\n",
        "    avg_loss = 0.\n",
        "    # evaluamos el modelo para cada batch\n",
        "    for x_batch, y_batch in val_dset:\n",
        "      _loss = self.sess.run(self.loss, feed_dict={self.x: x_batch}) \n",
        "      avg_loss += _loss \n",
        "    # obtenemos el loss promedio de todo el dataset\n",
        "    avg_loss /= val_dset.num_batches\n",
        "    return avg_loss\n",
        "  \n",
        "  \n",
        "  def train(self, train_dset, val_dset):\n",
        "    # Construimos el grafo computacional que usaremos para entrenar el modelo.\n",
        "    self.output_size = 28*28\n",
        "    self.x = tf.placeholder(tf.float32, [None, self.output_size])\n",
        "    \n",
        "    # Usamos nuestro modelo encoder-decoder para obtener las reconstrucciones\n",
        "    x_hat = self.network.encoder_decoder(self.x, self.feature_size, self.output_size)\n",
        "\n",
        "    # Calculamos la función de pérdida;\n",
        "    if self.loss_type == \"mse\":\n",
        "      self.loss = self.losses.mean_squared_error(self.x, x_hat)\n",
        "    else:\n",
        "      self.loss = self.losses.binary_cross_entropy(self.x, x_hat)\n",
        "    \n",
        "    # Usamos la función que proporciona un Optimizer, luego usamos el\n",
        "    # optimizador para definir los pasos de entrenamiento. Haciendo una llamada\n",
        "    # a este método, realizará el proceso de optimización para el batch actual\n",
        "    optimizer = tf.train.AdamOptimizer(self.learning_rate)\n",
        "    train_op = optimizer.minimize(self.loss)\n",
        "    \n",
        "    # Inicializamos las variables globales\n",
        "    self.sess.run(tf.global_variables_initializer())\n",
        "    \n",
        "    # iteramos dado el número de épocas\n",
        "    for epoch in range(self.num_epochs):\n",
        "      print('Starting epoch %d' % (epoch + 1) )  \n",
        "      avg_train_loss = 0.\n",
        "            \n",
        "      # entrenamos el modelo para cada batch\n",
        "      for x_batch, y_batch in train_dset:\n",
        "        # especificamos los valores de entrada para los placeholders\n",
        "        feed_dict = {self.x: x_batch}\n",
        "        # Ejecutamos el grafo con el batch actual, realizamos el paso\n",
        "        # forward y backward (optimización)\n",
        "        _loss, _ = self.sess.run([self.loss, train_op], feed_dict=feed_dict)       \n",
        "        avg_train_loss += _loss\n",
        "      \n",
        "      # obtenemos el loss promedio de toda la data de entrenamiento\n",
        "      avg_train_loss /= train_dset.num_batches\n",
        "      \n",
        "      # fase de validación\n",
        "      avg_val_loss = self.evaluate(val_dset)\n",
        "      \n",
        "      # Periodicamente imprimimos la pérdida  \n",
        "      print('Epoch (%d/%d): Train Loss (%.3f) - Validation Loss (%.3f)\\n' % (epoch + 1, self.num_epochs, avg_train_loss, avg_val_loss))\n",
        "    \n",
        "    \n",
        "  def reconstruction(self, data):\n",
        "    ## Reconstrucción dado un conjunto de datos\n",
        "    # Usamos nuestro modelo encoder-decoder para obtener las reconstrucciones\n",
        "    x_hat = self.network.encoder_decoder(self.x, self.feature_size, self.output_size)\n",
        "    reconstruction = self.sess.run(x_hat, feed_dict={self.x:data})\n",
        "    return reconstruction;\n",
        "  \n",
        "  \n",
        "  def latent_features_dataset(self, dataset):\n",
        "    ## Obtener caracteristicas aprendidas por el modelo\n",
        "    z = self.network.encoder(self.x, self.feature_size)\n",
        "    features = np.zeros((dataset.num_elements, self.feature_size))\n",
        "    it = 0\n",
        "    for x_batch, y_batch in dataset:\n",
        "      n = x_batch.shape[0]\n",
        "      features[it*n:it*n+n] = self.sess.run(z, feed_dict={self.x:x_batch})\n",
        "      it = it + 1\n",
        "    return features\n"
      ],
      "execution_count": 0,
      "outputs": []
    },
    {
      "cell_type": "markdown",
      "metadata": {
        "id": "Y3VZSSIZSzPi",
        "colab_type": "text"
      },
      "source": [
        "## Entrenamiento\n",
        "\n",
        "Inicializamos nuestro modelo con los parámetros deseados:"
      ]
    },
    {
      "cell_type": "code",
      "metadata": {
        "id": "h4XRnaZoTBVZ",
        "colab_type": "code",
        "colab": {}
      },
      "source": [
        "model = Autoencoder(learning_rate=1e-3, epochs=10, feature_size=64)"
      ],
      "execution_count": 0,
      "outputs": []
    },
    {
      "cell_type": "markdown",
      "metadata": {
        "id": "OxijNl7kULa3",
        "colab_type": "text"
      },
      "source": [
        "Realizamos el entrenamiento, primer construyendo el grafo computacional seguido por la fase de entrenamiento y validación."
      ]
    },
    {
      "cell_type": "code",
      "metadata": {
        "id": "sZjJubp5TUg6",
        "colab_type": "code",
        "outputId": "707c951c-9962-4740-de07-1807cb7aa0a8",
        "colab": {
          "base_uri": "https://localhost:8080/",
          "height": 766
        }
      },
      "source": [
        "model.train(train_dset, val_dset)"
      ],
      "execution_count": 12,
      "outputs": [
        {
          "output_type": "stream",
          "text": [
            "WARNING:tensorflow:From /usr/local/lib/python2.7/dist-packages/tensorflow/python/util/decorator_utils.py:145: VARIABLES (from tensorflow.python.framework.ops) is deprecated and will be removed in a future version.\n",
            "Instructions for updating:\n",
            "Use `tf.GraphKeys.GLOBAL_VARIABLES` instead.\n",
            "WARNING:tensorflow:From <ipython-input-8-c1c2e80a948f>:7: flatten (from tensorflow.python.layers.core) is deprecated and will be removed in a future version.\n",
            "Instructions for updating:\n",
            "Use keras.layers.flatten instead.\n",
            "WARNING:tensorflow:From <ipython-input-8-c1c2e80a948f>:8: dense (from tensorflow.python.layers.core) is deprecated and will be removed in a future version.\n",
            "Instructions for updating:\n",
            "Use keras.layers.dense instead.\n",
            "WARNING:tensorflow:From /usr/local/lib/python2.7/dist-packages/tensorflow/python/framework/op_def_library.py:263: colocate_with (from tensorflow.python.framework.ops) is deprecated and will be removed in a future version.\n",
            "Instructions for updating:\n",
            "Colocations handled automatically by placer.\n",
            "Starting epoch 1\n",
            "Epoch (1/10): Train Loss (0.024) - Validation Loss (0.011)\n",
            "\n",
            "Starting epoch 2\n",
            "Epoch (2/10): Train Loss (0.009) - Validation Loss (0.008)\n",
            "\n",
            "Starting epoch 3\n",
            "Epoch (3/10): Train Loss (0.007) - Validation Loss (0.007)\n",
            "\n",
            "Starting epoch 4\n",
            "Epoch (4/10): Train Loss (0.006) - Validation Loss (0.006)\n",
            "\n",
            "Starting epoch 5\n",
            "Epoch (5/10): Train Loss (0.005) - Validation Loss (0.006)\n",
            "\n",
            "Starting epoch 6\n",
            "Epoch (6/10): Train Loss (0.005) - Validation Loss (0.005)\n",
            "\n",
            "Starting epoch 7\n",
            "Epoch (7/10): Train Loss (0.005) - Validation Loss (0.005)\n",
            "\n",
            "Starting epoch 8\n",
            "Epoch (8/10): Train Loss (0.004) - Validation Loss (0.005)\n",
            "\n",
            "Starting epoch 9\n",
            "Epoch (9/10): Train Loss (0.004) - Validation Loss (0.004)\n",
            "\n",
            "Starting epoch 10\n",
            "Epoch (10/10): Train Loss (0.004) - Validation Loss (0.004)\n",
            "\n"
          ],
          "name": "stdout"
        }
      ]
    },
    {
      "cell_type": "markdown",
      "metadata": {
        "id": "1cdNH4OFUXRM",
        "colab_type": "text"
      },
      "source": [
        "## Reconstrucción de Imágenes\n",
        "\n",
        "A continuación visualizaremos las reconstrucciones aprendidas por nuestro modelo"
      ]
    },
    {
      "cell_type": "code",
      "metadata": {
        "id": "_ucxqCBrUhPd",
        "colab_type": "code",
        "outputId": "e631df7e-d9b9-4aed-f5be-270f425cef72",
        "colab": {
          "base_uri": "https://localhost:8080/",
          "height": 160
        }
      },
      "source": [
        "def display_reconstructed(original, reconstructed, n=10):\n",
        "  plt.figure(figsize=[18,2])\n",
        "  for i in range(n):\n",
        "    plt.subplot(2, n, i + 1)\n",
        "    plt.imshow(original[i].reshape(28, 28))\n",
        "    plt.gray()\n",
        "    plt.axis('off')\n",
        "    \n",
        "    if reconstructed is not None:\n",
        "      plt.subplot(2, n, i + n + 1)\n",
        "      plt.imshow(reconstructed[i].reshape(28, 28))\n",
        "      plt.gray()\n",
        "      plt.axis('off')\n",
        "  plt.show()\n",
        "\n",
        "x_test_batch = x_test[10:30]\n",
        "reconstructed = model.reconstruction(x_test_batch)  \n",
        "display_reconstructed(x_test_batch, reconstructed, 15)"
      ],
      "execution_count": 13,
      "outputs": [
        {
          "output_type": "display_data",
          "data": {
            "image/png": "[encoded data removed]",
            "text/plain": [
              "<Figure size 1296x144 with 30 Axes>"
            ]
          },
          "metadata": {
            "tags": []
          }
        }
      ]
    },
    {
      "cell_type": "markdown",
      "metadata": {
        "id": "d4WhjNcYVLEr",
        "colab_type": "text"
      },
      "source": [
        "La primera fila muestra las imágenes de entrada originales, la segunda fila muestra las reconstrucciones. Podemos ver que la reconstrucción es muy parecida a la imagen original, ello indica que con hemos conseguido aprender características que visualizaremos a continuación."
      ]
    },
    {
      "cell_type": "markdown",
      "metadata": {
        "id": "202RaPx-Xm0e",
        "colab_type": "text"
      },
      "source": [
        "## Visualización del espacio latente de las características aprendidas\n",
        "\n",
        "Podemos visualizar las representaciones de características del conjunto de datos MNIST después del entrenamiento, para ello entrenamos nuevamente el modelo pero reduciendo la dimensionalidad a 2D para la visualización del conjunto de datos de prueba."
      ]
    },
    {
      "cell_type": "code",
      "metadata": {
        "id": "xpKdpgWjYCaL",
        "colab_type": "code",
        "outputId": "a8aa4a15-bef2-4f75-84a5-16805cc4d8fa",
        "colab": {
          "base_uri": "https://localhost:8080/",
          "height": 2622
        }
      },
      "source": [
        "model = Autoencoder(learning_rate=1e-3, epochs=50, feature_size=2)\n",
        "model.train(train_dset, val_dset)"
      ],
      "execution_count": 14,
      "outputs": [
        {
          "output_type": "stream",
          "text": [
            "Starting epoch 1\n",
            "Epoch (1/50): Train Loss (0.053) - Validation Loss (0.046)\n",
            "\n",
            "Starting epoch 2\n",
            "Epoch (2/50): Train Loss (0.043) - Validation Loss (0.042)\n",
            "\n",
            "Starting epoch 3\n",
            "Epoch (3/50): Train Loss (0.041) - Validation Loss (0.041)\n",
            "\n",
            "Starting epoch 4\n",
            "Epoch (4/50): Train Loss (0.039) - Validation Loss (0.040)\n",
            "\n",
            "Starting epoch 5\n",
            "Epoch (5/50): Train Loss (0.039) - Validation Loss (0.039)\n",
            "\n",
            "Starting epoch 6\n",
            "Epoch (6/50): Train Loss (0.038) - Validation Loss (0.039)\n",
            "\n",
            "Starting epoch 7\n",
            "Epoch (7/50): Train Loss (0.037) - Validation Loss (0.038)\n",
            "\n",
            "Starting epoch 8\n",
            "Epoch (8/50): Train Loss (0.037) - Validation Loss (0.038)\n",
            "\n",
            "Starting epoch 9\n",
            "Epoch (9/50): Train Loss (0.037) - Validation Loss (0.037)\n",
            "\n",
            "Starting epoch 10\n",
            "Epoch (10/50): Train Loss (0.036) - Validation Loss (0.037)\n",
            "\n",
            "Starting epoch 11\n",
            "Epoch (11/50): Train Loss (0.036) - Validation Loss (0.037)\n",
            "\n",
            "Starting epoch 12\n",
            "Epoch (12/50): Train Loss (0.036) - Validation Loss (0.037)\n",
            "\n",
            "Starting epoch 13\n",
            "Epoch (13/50): Train Loss (0.036) - Validation Loss (0.037)\n",
            "\n",
            "Starting epoch 14\n",
            "Epoch (14/50): Train Loss (0.035) - Validation Loss (0.037)\n",
            "\n",
            "Starting epoch 15\n",
            "Epoch (15/50): Train Loss (0.035) - Validation Loss (0.036)\n",
            "\n",
            "Starting epoch 16\n",
            "Epoch (16/50): Train Loss (0.035) - Validation Loss (0.036)\n",
            "\n",
            "Starting epoch 17\n",
            "Epoch (17/50): Train Loss (0.035) - Validation Loss (0.036)\n",
            "\n",
            "Starting epoch 18\n",
            "Epoch (18/50): Train Loss (0.035) - Validation Loss (0.036)\n",
            "\n",
            "Starting epoch 19\n",
            "Epoch (19/50): Train Loss (0.035) - Validation Loss (0.036)\n",
            "\n",
            "Starting epoch 20\n",
            "Epoch (20/50): Train Loss (0.034) - Validation Loss (0.036)\n",
            "\n",
            "Starting epoch 21\n",
            "Epoch (21/50): Train Loss (0.034) - Validation Loss (0.036)\n",
            "\n",
            "Starting epoch 22\n",
            "Epoch (22/50): Train Loss (0.034) - Validation Loss (0.036)\n",
            "\n",
            "Starting epoch 23\n",
            "Epoch (23/50): Train Loss (0.034) - Validation Loss (0.036)\n",
            "\n",
            "Starting epoch 24\n",
            "Epoch (24/50): Train Loss (0.034) - Validation Loss (0.036)\n",
            "\n",
            "Starting epoch 25\n",
            "Epoch (25/50): Train Loss (0.034) - Validation Loss (0.036)\n",
            "\n",
            "Starting epoch 26\n",
            "Epoch (26/50): Train Loss (0.034) - Validation Loss (0.036)\n",
            "\n",
            "Starting epoch 27\n",
            "Epoch (27/50): Train Loss (0.034) - Validation Loss (0.036)\n",
            "\n",
            "Starting epoch 28\n",
            "Epoch (28/50): Train Loss (0.034) - Validation Loss (0.036)\n",
            "\n",
            "Starting epoch 29\n",
            "Epoch (29/50): Train Loss (0.033) - Validation Loss (0.036)\n",
            "\n",
            "Starting epoch 30\n",
            "Epoch (30/50): Train Loss (0.033) - Validation Loss (0.036)\n",
            "\n",
            "Starting epoch 31\n",
            "Epoch (31/50): Train Loss (0.033) - Validation Loss (0.036)\n",
            "\n",
            "Starting epoch 32\n",
            "Epoch (32/50): Train Loss (0.033) - Validation Loss (0.036)\n",
            "\n",
            "Starting epoch 33\n",
            "Epoch (33/50): Train Loss (0.033) - Validation Loss (0.036)\n",
            "\n",
            "Starting epoch 34\n",
            "Epoch (34/50): Train Loss (0.033) - Validation Loss (0.036)\n",
            "\n",
            "Starting epoch 35\n",
            "Epoch (35/50): Train Loss (0.033) - Validation Loss (0.036)\n",
            "\n",
            "Starting epoch 36\n",
            "Epoch (36/50): Train Loss (0.033) - Validation Loss (0.036)\n",
            "\n",
            "Starting epoch 37\n",
            "Epoch (37/50): Train Loss (0.033) - Validation Loss (0.036)\n",
            "\n",
            "Starting epoch 38\n",
            "Epoch (38/50): Train Loss (0.033) - Validation Loss (0.036)\n",
            "\n",
            "Starting epoch 39\n",
            "Epoch (39/50): Train Loss (0.033) - Validation Loss (0.036)\n",
            "\n",
            "Starting epoch 40\n",
            "Epoch (40/50): Train Loss (0.033) - Validation Loss (0.036)\n",
            "\n",
            "Starting epoch 41\n",
            "Epoch (41/50): Train Loss (0.033) - Validation Loss (0.036)\n",
            "\n",
            "Starting epoch 42\n",
            "Epoch (42/50): Train Loss (0.033) - Validation Loss (0.035)\n",
            "\n",
            "Starting epoch 43\n",
            "Epoch (43/50): Train Loss (0.033) - Validation Loss (0.036)\n",
            "\n",
            "Starting epoch 44\n",
            "Epoch (44/50): Train Loss (0.032) - Validation Loss (0.036)\n",
            "\n",
            "Starting epoch 45\n",
            "Epoch (45/50): Train Loss (0.032) - Validation Loss (0.036)\n",
            "\n",
            "Starting epoch 46\n",
            "Epoch (46/50): Train Loss (0.032) - Validation Loss (0.036)\n",
            "\n",
            "Starting epoch 47\n",
            "Epoch (47/50): Train Loss (0.032) - Validation Loss (0.036)\n",
            "\n",
            "Starting epoch 48\n",
            "Epoch (48/50): Train Loss (0.032) - Validation Loss (0.036)\n",
            "\n",
            "Starting epoch 49\n",
            "Epoch (49/50): Train Loss (0.032) - Validation Loss (0.036)\n",
            "\n",
            "Starting epoch 50\n",
            "Epoch (50/50): Train Loss (0.032) - Validation Loss (0.036)\n",
            "\n"
          ],
          "name": "stdout"
        }
      ]
    },
    {
      "cell_type": "markdown",
      "metadata": {
        "id": "FEQBWRX_YH3-",
        "colab_type": "text"
      },
      "source": [
        "Una vez tenemos el modelo entrenado, calculamos las representaciones de características del conjunto de datos de prueba (testset):"
      ]
    },
    {
      "cell_type": "code",
      "metadata": {
        "id": "n8N8xV89YRFv",
        "colab_type": "code",
        "colab": {}
      },
      "source": [
        "# obtener representaciones caracteriticas\n",
        "test_features = model.latent_features_dataset(test_dset)"
      ],
      "execution_count": 0,
      "outputs": []
    },
    {
      "cell_type": "markdown",
      "metadata": {
        "id": "Uwxz3HQcYSj9",
        "colab_type": "text"
      },
      "source": [
        "Visualizemos el espacio latente del conjunto de datos de prueba."
      ]
    },
    {
      "cell_type": "code",
      "metadata": {
        "id": "ANHxsfO1YV-c",
        "colab_type": "code",
        "outputId": "ea662acd-6004-4c23-a7ee-997d4323160b",
        "colab": {
          "base_uri": "https://localhost:8080/",
          "height": 395
        }
      },
      "source": [
        "# plot con 2 dimensiones\n",
        "fig = plt.figure(figsize=(8, 6))\n",
        "plt.scatter(test_features[:, 0], test_features[:, 1], c=y_test, marker='o',\n",
        "            edgecolor='none', cmap=plt.cm.get_cmap('jet', 10), s = 10)\n",
        "plt.colorbar()"
      ],
      "execution_count": 16,
      "outputs": [
        {
          "output_type": "execute_result",
          "data": {
            "text/plain": [
              "<matplotlib.colorbar.Colorbar at 0x7ffa407e7ad0>"
            ]
          },
          "metadata": {
            "tags": []
          },
          "execution_count": 16
        },
        {
          "output_type": "display_data",
          "data": {
            "image/png": "[encoded data removed]",
            "text/plain": [
              "<Figure size 576x432 with 2 Axes>"
            ]
          },
          "metadata": {
            "tags": []
          }
        }
      ]
    },
    {
      "cell_type": "markdown",
      "metadata": {
        "id": "dXDj7E5BVbLZ",
        "colab_type": "text"
      },
      "source": [
        "## Visualización del espacio latente usando t-SNE\n",
        "\n",
        "Podemos visualizar las representaciones de características del conjunto de datos MNIST después del entrenamiento, utilizamos t-SNE para la visualización del conjunto de datos de prueba. Para este fin, primero calculamos las representaciones de características del conjunto de datos de prueba:"
      ]
    },
    {
      "cell_type": "code",
      "metadata": {
        "id": "hygF7uOvq4fr",
        "colab_type": "code",
        "outputId": "ed4cb74f-5bd3-4de4-9ee3-4702d03e3002",
        "colab": {
          "base_uri": "https://localhost:8080/",
          "height": 538
        }
      },
      "source": [
        "model = Autoencoder(learning_rate=1e-3, epochs=10, feature_size=64)\n",
        "model.train(train_dset, val_dset)"
      ],
      "execution_count": 17,
      "outputs": [
        {
          "output_type": "stream",
          "text": [
            "Starting epoch 1\n",
            "Epoch (1/10): Train Loss (0.023) - Validation Loss (0.011)\n",
            "\n",
            "Starting epoch 2\n",
            "Epoch (2/10): Train Loss (0.009) - Validation Loss (0.008)\n",
            "\n",
            "Starting epoch 3\n",
            "Epoch (3/10): Train Loss (0.007) - Validation Loss (0.007)\n",
            "\n",
            "Starting epoch 4\n",
            "Epoch (4/10): Train Loss (0.006) - Validation Loss (0.006)\n",
            "\n",
            "Starting epoch 5\n",
            "Epoch (5/10): Train Loss (0.005) - Validation Loss (0.005)\n",
            "\n",
            "Starting epoch 6\n",
            "Epoch (6/10): Train Loss (0.005) - Validation Loss (0.005)\n",
            "\n",
            "Starting epoch 7\n",
            "Epoch (7/10): Train Loss (0.004) - Validation Loss (0.005)\n",
            "\n",
            "Starting epoch 8\n",
            "Epoch (8/10): Train Loss (0.004) - Validation Loss (0.005)\n",
            "\n",
            "Starting epoch 9\n",
            "Epoch (9/10): Train Loss (0.004) - Validation Loss (0.004)\n",
            "\n",
            "Starting epoch 10\n",
            "Epoch (10/10): Train Loss (0.004) - Validation Loss (0.004)\n",
            "\n"
          ],
          "name": "stdout"
        }
      ]
    },
    {
      "cell_type": "code",
      "metadata": {
        "id": "1u2uRfS5VzcF",
        "colab_type": "code",
        "colab": {}
      },
      "source": [
        "# obtener representaciones caracteriticas\n",
        "test_features = model.latent_features_dataset(test_dset)"
      ],
      "execution_count": 0,
      "outputs": []
    },
    {
      "cell_type": "markdown",
      "metadata": {
        "id": "GVKLIy1pWB7P",
        "colab_type": "text"
      },
      "source": [
        "Usamos el módulo t-SNE de la biblioteca [scikit-learn](https://scikit-learn.org/stable/modules/generated/sklearn.manifold.TSNE.html) para reducir la dimensionalidad de los datos a 2D para su visualización:"
      ]
    },
    {
      "cell_type": "code",
      "metadata": {
        "id": "9aK6mHQJWRGN",
        "colab_type": "code",
        "colab": {}
      },
      "source": [
        "# importar TSNE de scikit-learn library\n",
        "from sklearn.manifold import TSNE\n",
        "\n",
        "# reducimos la dimensionalidad a 2D, consideramos un subconjunto de datos porque\n",
        "# TSNE es un algoritmo pesado\n",
        "tsne_features = TSNE(n_components=2).fit_transform(test_features[:5000,])"
      ],
      "execution_count": 0,
      "outputs": []
    },
    {
      "cell_type": "markdown",
      "metadata": {
        "id": "OzQ4ufNhWgDl",
        "colab_type": "text"
      },
      "source": [
        "Visualizemos el espacio latente del conjunto de datos de prueba."
      ]
    },
    {
      "cell_type": "code",
      "metadata": {
        "id": "T5VkCYLAWq1x",
        "colab_type": "code",
        "outputId": "bb27541b-9bc3-422f-f232-dc53033d8bed",
        "colab": {
          "base_uri": "https://localhost:8080/",
          "height": 450
        }
      },
      "source": [
        "fig = plt.figure(figsize=(10, 6))\n",
        "\n",
        "plt.scatter(tsne_features[:, 0], tsne_features[:, 1], c=y_test[:tsne_features.shape[0]], marker='o',\n",
        "            edgecolor='none', cmap=plt.cm.get_cmap('jet', 10), s = 10)\n",
        "plt.grid('off')\n",
        "plt.axis('off')\n",
        "plt.colorbar()"
      ],
      "execution_count": 20,
      "outputs": [
        {
          "output_type": "stream",
          "text": [
            "/usr/local/lib/python2.7/dist-packages/matplotlib/cbook/deprecation.py:107: MatplotlibDeprecationWarning: Passing one of 'on', 'true', 'off', 'false' as a boolean is deprecated; use an actual boolean (True/False) instead.\n",
            "  warnings.warn(message, mplDeprecation, stacklevel=1)\n"
          ],
          "name": "stderr"
        },
        {
          "output_type": "execute_result",
          "data": {
            "text/plain": [
              "<matplotlib.colorbar.Colorbar at 0x7ffa5aa96e10>"
            ]
          },
          "metadata": {
            "tags": []
          },
          "execution_count": 20
        },
        {
          "output_type": "display_data",
          "data": {
            "image/png": "[encoded data removed]",
            "text/plain": [
              "<Figure size 720x432 with 2 Axes>"
            ]
          },
          "metadata": {
            "tags": []
          }
        }
      ]
    },
    {
      "cell_type": "markdown",
      "metadata": {
        "id": "hS4On0VabmbG",
        "colab_type": "text"
      },
      "source": [
        "## Clustering\n",
        "\n",
        "Usaremos el algoritmo K-Means del módulo de clustering de la biblioteca [scikit-learn](https://scikit-learn.org/stable/modules/clustering.html)."
      ]
    },
    {
      "cell_type": "code",
      "metadata": {
        "id": "uEr7OIvKb3cX",
        "colab_type": "code",
        "colab": {}
      },
      "source": [
        "from sklearn.cluster import KMeans\n",
        "from sklearn.decomposition import PCA"
      ],
      "execution_count": 0,
      "outputs": []
    },
    {
      "cell_type": "markdown",
      "metadata": {
        "id": "cVikWNE2mkF5",
        "colab_type": "text"
      },
      "source": [
        "### Métricas de Evaluación\n",
        "\n",
        "Usaremos dos métrics muy usadas en clustering: Clustering Accuracy (ACC) y Normalized Mutual Informacion (NMI)."
      ]
    },
    {
      "cell_type": "code",
      "metadata": {
        "id": "2QOtzc3wmtfJ",
        "colab_type": "code",
        "colab": {}
      },
      "source": [
        "class Metrics:\n",
        "\n",
        "  def acc(self, Y_pred, Y):\n",
        "    Y_pred, Y = np.array(Y_pred), np.array(Y)\n",
        "    from sklearn.utils.linear_assignment_ import linear_assignment\n",
        "    assert Y_pred.size == Y.size\n",
        "    D = max(Y_pred.max(), Y.max())+1\n",
        "    w = np.zeros((D,D), dtype=np.int64)\n",
        "    for i in range(Y_pred.size):\n",
        "      w[Y_pred[i], Y[i]] += 1\n",
        "    ind = linear_assignment(w.max() - w)\n",
        "    return sum([w[i,j] for i,j in ind])*1.0/Y_pred.size\n",
        "  \n",
        "  def nmi(self, Y_pred, Y):\n",
        "    Y_pred, Y = np.array(Y_pred), np.array(Y)\n",
        "    assert Y_pred.size == Y.size\n",
        "    from sklearn.metrics.cluster import normalized_mutual_info_score\n",
        "    return normalized_mutual_info_score(Y_pred, Y, average_method='arithmetic')"
      ],
      "execution_count": 0,
      "outputs": []
    },
    {
      "cell_type": "markdown",
      "metadata": {
        "id": "tCQhpR3ycycK",
        "colab_type": "text"
      },
      "source": [
        "### Baseline - PCA\n",
        "\n",
        "Siempre es bueno definir un baseline con el cual comparar nuestros resultados. Nuestro baseline será usar PCA sobre MNIST para luego aplicar Clustering. Para ello primero realizamos un análisis de la data con PCA, para determinar el número de componentes a considerar."
      ]
    },
    {
      "cell_type": "markdown",
      "metadata": {
        "id": "rObweb4Sggna",
        "colab_type": "text"
      },
      "source": [
        "#### Normalización de la data para el uso de PCA"
      ]
    },
    {
      "cell_type": "code",
      "metadata": {
        "id": "OEnCc9gSgfMs",
        "colab_type": "code",
        "colab": {}
      },
      "source": [
        "# Normalizamos la data\n",
        "from sklearn.preprocessing import StandardScaler\n",
        "scaler = StandardScaler()\n",
        "train_std = scaler.fit_transform(x_train)\n",
        "val_std = scaler.transform(x_val)\n",
        "test_std = scaler.transform(x_test)\n"
      ],
      "execution_count": 0,
      "outputs": []
    },
    {
      "cell_type": "markdown",
      "metadata": {
        "id": "e_rj2cHuleLd",
        "colab_type": "text"
      },
      "source": [
        "#### Selección de Componentes"
      ]
    },
    {
      "cell_type": "code",
      "metadata": {
        "id": "T3PiobkJd6c-",
        "colab_type": "code",
        "outputId": "75249130-95ef-4ed5-f9a7-a5a86f33e8a8",
        "colab": {
          "base_uri": "https://localhost:8080/",
          "height": 407
        }
      },
      "source": [
        "# Determinar la variance que aporta cada variable\n",
        "from sklearn.decomposition import PCA\n",
        "\n",
        "pca = PCA(n_components=28*28).fit(train_std)\n",
        "\n",
        "plt.figure(figsize=(10,6))\n",
        "plt.scatter(list(range(28*28)), pca.explained_variance_ratio_)\n",
        "plt.title(\"Single Variable's Explained Variance\")\n",
        "\n"
      ],
      "execution_count": 24,
      "outputs": [
        {
          "output_type": "execute_result",
          "data": {
            "text/plain": [
              "Text(0.5,1,\"Single Variable's Explained Variance\")"
            ]
          },
          "metadata": {
            "tags": []
          },
          "execution_count": 24
        },
        {
          "output_type": "display_data",
          "data": {
            "image/png": "[encoded data removed]",
            "text/plain": [
              "<Figure size 720x432 with 1 Axes>"
            ]
          },
          "metadata": {
            "tags": []
          }
        }
      ]
    },
    {
      "cell_type": "code",
      "metadata": {
        "id": "a4OF-7hefpTq",
        "colab_type": "code",
        "outputId": "1ef34a83-e8c3-42c4-9e26-f9427b0996c6",
        "colab": {
          "base_uri": "https://localhost:8080/",
          "height": 407
        }
      },
      "source": [
        "plt.figure(figsize=(10,6))\n",
        "plt.scatter(list(range(28*28)), pca.explained_variance_ratio_.cumsum())\n",
        "plt.title(\"Single Variable's Explained Variance\")\n"
      ],
      "execution_count": 25,
      "outputs": [
        {
          "output_type": "execute_result",
          "data": {
            "text/plain": [
              "Text(0.5,1,\"Single Variable's Explained Variance\")"
            ]
          },
          "metadata": {
            "tags": []
          },
          "execution_count": 25
        },
        {
          "output_type": "display_data",
          "data": {
            "image/png": "[encoded data removed]",
            "text/plain": [
              "<Figure size 720x432 with 1 Axes>"
            ]
          },
          "metadata": {
            "tags": []
          }
        }
      ]
    },
    {
      "cell_type": "code",
      "metadata": {
        "id": "BmRv_xH-i5tg",
        "colab_type": "code",
        "outputId": "70ee44ec-21d5-4b1a-e0d9-6be8ce8590fd",
        "colab": {
          "base_uri": "https://localhost:8080/",
          "height": 34
        }
      },
      "source": [
        "pca.explained_variance_ratio_.cumsum()[250]"
      ],
      "execution_count": 26,
      "outputs": [
        {
          "output_type": "execute_result",
          "data": {
            "text/plain": [
              "0.9145923"
            ]
          },
          "metadata": {
            "tags": []
          },
          "execution_count": 26
        }
      ]
    },
    {
      "cell_type": "markdown",
      "metadata": {
        "id": "aAXS5Aohkna-",
        "colab_type": "text"
      },
      "source": [
        "Otra forma de poder saber cuantas componentes son las mas adecuadas es aplicando directamente el porcentage de varianza a considerar:"
      ]
    },
    {
      "cell_type": "code",
      "metadata": {
        "id": "OttLIGJ1jHJ3",
        "colab_type": "code",
        "colab": {}
      },
      "source": [
        "pca = PCA(n_components=0.95).fit(train_std)"
      ],
      "execution_count": 0,
      "outputs": []
    },
    {
      "cell_type": "code",
      "metadata": {
        "id": "akpVeHa2kYVL",
        "colab_type": "code",
        "outputId": "1d625e25-820c-449b-c6d9-55eb887b1344",
        "colab": {
          "base_uri": "https://localhost:8080/",
          "height": 34
        }
      },
      "source": [
        "pca.n_components_"
      ],
      "execution_count": 28,
      "outputs": [
        {
          "output_type": "execute_result",
          "data": {
            "text/plain": [
              "324"
            ]
          },
          "metadata": {
            "tags": []
          },
          "execution_count": 28
        }
      ]
    },
    {
      "cell_type": "markdown",
      "metadata": {
        "id": "_YiYjFZtk6BJ",
        "colab_type": "text"
      },
      "source": [
        "Como número final de componentes elegiremos $300$ el cual aplicamos a todos los datasets"
      ]
    },
    {
      "cell_type": "code",
      "metadata": {
        "id": "4sKoOjdjouvn",
        "colab_type": "code",
        "colab": {}
      },
      "source": [
        "num_components = 300\n",
        "pca = PCA(n_components=num_components).fit(train_std)"
      ],
      "execution_count": 0,
      "outputs": []
    },
    {
      "cell_type": "code",
      "metadata": {
        "id": "s-SSERyglKD5",
        "colab_type": "code",
        "outputId": "5052ab1e-62c5-4675-8582-c9fab1199f8c",
        "colab": {
          "base_uri": "https://localhost:8080/",
          "height": 69
        }
      },
      "source": [
        "pca_train_feat = pca.transform(train_std)\n",
        "pca_val_feat = pca.transform(val_std)\n",
        "pca_test_feat = pca.transform(test_std)\n",
        "\n",
        "print(\"Train size: \", pca_train_feat.shape)\n",
        "print(\"Val size: \", pca_val_feat.shape)\n",
        "print(\"Test size: \", pca_test_feat.shape)"
      ],
      "execution_count": 30,
      "outputs": [
        {
          "output_type": "stream",
          "text": [
            "('Train size: ', (48000, 300))\n",
            "('Val size: ', (12000, 300))\n",
            "('Test size: ', (10000, 300))\n"
          ],
          "name": "stdout"
        }
      ]
    },
    {
      "cell_type": "markdown",
      "metadata": {
        "id": "WiS_3veElcxi",
        "colab_type": "text"
      },
      "source": [
        "#### Clustering con K-means"
      ]
    },
    {
      "cell_type": "code",
      "metadata": {
        "id": "E3-bCt65b5Lm",
        "colab_type": "code",
        "colab": {}
      },
      "source": [
        "kmeans = KMeans(n_clusters=10, n_init=10, n_jobs=-1)\n",
        "y_pca_kmeans_train = kmeans.fit_predict(pca_train_feat)"
      ],
      "execution_count": 0,
      "outputs": []
    },
    {
      "cell_type": "code",
      "metadata": {
        "id": "8rUTI1qTn5eW",
        "colab_type": "code",
        "colab": {}
      },
      "source": [
        "y_pca_kmeans_val = kmeans.predict(pca_val_feat)\n",
        "y_pca_kmeans_test = kmeans.predict(pca_test_feat)"
      ],
      "execution_count": 0,
      "outputs": []
    },
    {
      "cell_type": "markdown",
      "metadata": {
        "id": "Z9wVmA9RmaoY",
        "colab_type": "text"
      },
      "source": [
        "Evaluamos el baseline con las métricas ACC y NMI"
      ]
    },
    {
      "cell_type": "code",
      "metadata": {
        "id": "FGzpA_Cml8qS",
        "colab_type": "code",
        "outputId": "99b497fb-5c1a-41ee-c03d-fb8c4fa472e5",
        "colab": {
          "base_uri": "https://localhost:8080/",
          "height": 69
        }
      },
      "source": [
        "def print_clustering_metrics(y_pred_kmeans, y_train, y_pred_kmeans_val, y_val, y_pred_kmeans_test, y_test):\n",
        "  metrics = Metrics()\n",
        "  base_train_acc = metrics.acc(y_pred_kmeans, y_train)\n",
        "  base_train_nmi = metrics.nmi(y_pred_kmeans, y_train)\n",
        "  base_val_acc = metrics.acc(y_pred_kmeans_val, y_val)\n",
        "  base_val_nmi = metrics.nmi(y_pred_kmeans_val, y_val)\n",
        "  base_test_acc = metrics.acc(y_pred_kmeans_test, y_test)\n",
        "  base_test_nmi = metrics.nmi(y_pred_kmeans_test, y_test)\n",
        "  print(\"Train ACC: %.3lf, NMI: %.3lf\" % (base_train_acc, base_train_nmi))\n",
        "  print(\"Val ACC: %.3lf, NMI: %.3lf\" % (base_val_acc, base_val_nmi))\n",
        "  print(\"Test ACC: %.3lf, NMI: %.3lf\" % (base_test_acc, base_test_nmi))\n",
        "\n",
        "print_clustering_metrics(y_pca_kmeans_train, y_train, y_pca_kmeans_val, y_val, y_pca_kmeans_test, y_test)"
      ],
      "execution_count": 33,
      "outputs": [
        {
          "output_type": "stream",
          "text": [
            "Train ACC: 0.490, NMI: 0.430\n",
            "Val ACC: 0.487, NMI: 0.430\n",
            "Test ACC: 0.490, NMI: 0.438\n"
          ],
          "name": "stdout"
        }
      ]
    },
    {
      "cell_type": "markdown",
      "metadata": {
        "id": "LznwzFUGnkby",
        "colab_type": "text"
      },
      "source": [
        "### Clustering usando Autoencoders\n",
        "\n",
        "Usaremos nuestro modelo de autoencoders con el mismo número de componentes que PCA."
      ]
    },
    {
      "cell_type": "code",
      "metadata": {
        "id": "AokRLc4PdZss",
        "colab_type": "code",
        "outputId": "6e1eb9e9-9c07-490d-b321-b274edb05efa",
        "colab": {
          "base_uri": "https://localhost:8080/",
          "height": 538
        }
      },
      "source": [
        "autoencoder = Autoencoder(learning_rate=1e-3, epochs=10, feature_size=num_components)\n",
        "autoencoder.train(train_dset, val_dset)"
      ],
      "execution_count": 34,
      "outputs": [
        {
          "output_type": "stream",
          "text": [
            "Starting epoch 1\n",
            "Epoch (1/10): Train Loss (0.021) - Validation Loss (0.010)\n",
            "\n",
            "Starting epoch 2\n",
            "Epoch (2/10): Train Loss (0.008) - Validation Loss (0.007)\n",
            "\n",
            "Starting epoch 3\n",
            "Epoch (3/10): Train Loss (0.006) - Validation Loss (0.005)\n",
            "\n",
            "Starting epoch 4\n",
            "Epoch (4/10): Train Loss (0.005) - Validation Loss (0.005)\n",
            "\n",
            "Starting epoch 5\n",
            "Epoch (5/10): Train Loss (0.004) - Validation Loss (0.004)\n",
            "\n",
            "Starting epoch 6\n",
            "Epoch (6/10): Train Loss (0.004) - Validation Loss (0.004)\n",
            "\n",
            "Starting epoch 7\n",
            "Epoch (7/10): Train Loss (0.004) - Validation Loss (0.004)\n",
            "\n",
            "Starting epoch 8\n",
            "Epoch (8/10): Train Loss (0.004) - Validation Loss (0.004)\n",
            "\n",
            "Starting epoch 9\n",
            "Epoch (9/10): Train Loss (0.003) - Validation Loss (0.004)\n",
            "\n",
            "Starting epoch 10\n",
            "Epoch (10/10): Train Loss (0.003) - Validation Loss (0.003)\n",
            "\n"
          ],
          "name": "stdout"
        }
      ]
    },
    {
      "cell_type": "markdown",
      "metadata": {
        "id": "AGF34okFpNxV",
        "colab_type": "text"
      },
      "source": [
        "Extraemos características luego de entrenar"
      ]
    },
    {
      "cell_type": "code",
      "metadata": {
        "id": "nLhMbvqxpCAc",
        "colab_type": "code",
        "outputId": "2e0bd22a-f7f0-4669-d058-ed1f16689ca7",
        "colab": {
          "base_uri": "https://localhost:8080/",
          "height": 69
        }
      },
      "source": [
        "ae_train_feat = autoencoder.latent_features_dataset(train_dset)\n",
        "ae_val_feat = autoencoder.latent_features_dataset(val_dset)\n",
        "ae_test_feat = autoencoder.latent_features_dataset(test_dset)\n",
        "\n",
        "print(\"Train Features: \", ae_train_feat.shape)\n",
        "print(\"Val Features: \", ae_val_feat.shape)\n",
        "print(\"Test Features: \", ae_test_feat.shape)"
      ],
      "execution_count": 35,
      "outputs": [
        {
          "output_type": "stream",
          "text": [
            "('Train Features: ', (48000, 300))\n",
            "('Val Features: ', (12000, 300))\n",
            "('Test Features: ', (10000, 300))\n"
          ],
          "name": "stdout"
        }
      ]
    },
    {
      "cell_type": "markdown",
      "metadata": {
        "id": "uF1W32RwqBjE",
        "colab_type": "text"
      },
      "source": [
        "#### Clusering con K-means"
      ]
    },
    {
      "cell_type": "code",
      "metadata": {
        "id": "2mjQDb-QpW68",
        "colab_type": "code",
        "outputId": "2c5b8650-cdb2-49c9-966f-8fbee198944e",
        "colab": {
          "base_uri": "https://localhost:8080/",
          "height": 72
        }
      },
      "source": [
        "kmeans = KMeans(n_clusters=10, n_init=10, n_jobs=-1)\n",
        "y_ae_kmeans_train = kmeans.fit_predict(ae_train_feat)\n",
        "y_ae_kmeans_val = kmeans.predict(ae_val_feat)\n",
        "y_ae_kmeans_test = kmeans.predict(ae_test_feat)"
      ],
      "execution_count": 36,
      "outputs": [
        {
          "output_type": "stream",
          "text": [
            "/usr/local/lib/python2.7/dist-packages/sklearn/externals/joblib/externals/loky/process_executor.py:706: UserWarning: A worker stopped while some jobs were given to the executor. This can be caused by a too short worker timeout or by a memory leak.\n",
            "  \"timeout or by a memory leak.\", UserWarning\n"
          ],
          "name": "stderr"
        }
      ]
    },
    {
      "cell_type": "markdown",
      "metadata": {
        "id": "TzcIH64cqY21",
        "colab_type": "text"
      },
      "source": [
        "Evaluamos nuestro modelo de autoencoders con las métricas ACC y NMI"
      ]
    },
    {
      "cell_type": "code",
      "metadata": {
        "id": "NRch2h-yplVx",
        "colab_type": "code",
        "outputId": "0ec28549-decd-4600-c0e4-2dbbb4be6252",
        "colab": {
          "base_uri": "https://localhost:8080/",
          "height": 69
        }
      },
      "source": [
        "print_clustering_metrics(y_ae_kmeans_train, y_train, y_ae_kmeans_val, y_val, y_ae_kmeans_test, y_test)"
      ],
      "execution_count": 37,
      "outputs": [
        {
          "output_type": "stream",
          "text": [
            "Train ACC: 0.517, NMI: 0.495\n",
            "Val ACC: 0.519, NMI: 0.493\n",
            "Test ACC: 0.522, NMI: 0.498\n"
          ],
          "name": "stdout"
        }
      ]
    },
    {
      "cell_type": "markdown",
      "metadata": {
        "id": "2fA-mt2O1BMU",
        "colab_type": "text"
      },
      "source": [
        "## Denoising Autoencoder"
      ]
    },
    {
      "cell_type": "markdown",
      "metadata": {
        "id": "yn3Rsxc9A5KL",
        "colab_type": "text"
      },
      "source": [
        "![alt text](https://cdn-images-1.medium.com/max/800/1*SxwRp9i23OM0Up4sEze1QQ@2x.png)"
      ]
    },
    {
      "cell_type": "code",
      "metadata": {
        "id": "gV1dtvuD1l1n",
        "colab_type": "code",
        "colab": {}
      },
      "source": [
        "class DenoisingAutoencoder():\n",
        "  \n",
        "  def __init__(self, **params):\n",
        "    tf.reset_default_graph()\n",
        "    ## Hiperparametros\n",
        "    self.learning_rate = params.get(\"learning_rate\", 1e-2)\n",
        "    self.feature_size = params.get(\"feature_size\", 64)\n",
        "    self.num_epochs = params.get(\"epochs\", 10)\n",
        "    self.loss_type = params.get(\"loss_type\", \"mse\")\n",
        "    self.noise_factor = params.get(\"noise\", 0.5)\n",
        "    self.network = Networks()\n",
        "    self.losses = LossFunction()\n",
        "    self.sess = tf.Session()\n",
        "  \n",
        "  \n",
        "  def evaluate(self, val_dset):\n",
        "    ## Función para evaluar el modelo en un determinado dataset\n",
        "    avg_loss = 0.\n",
        "    # evaluamos el modelo para cada batch\n",
        "    for x_batch, y_batch in val_dset:\n",
        "      x_batch_noisy = x_batch + self.noise_factor * np.random.normal(0.0, 1.0, size=x_batch.shape) \n",
        "      _loss = self.sess.run(self.loss, feed_dict={self.x: x_batch, self.x_noisy: x_batch_noisy}) \n",
        "      avg_loss += _loss \n",
        "    # obtenemos el loss promedio de todo el dataset\n",
        "    avg_loss /= val_dset.num_batches\n",
        "    return avg_loss\n",
        "  \n",
        "  \n",
        "  def train(self, train_dset, val_dset):\n",
        "    # Construimos el grafo computacional que usaremos para entrenar el modelo.\n",
        "    self.output_size = 28*28\n",
        "    self.x = tf.placeholder(tf.float32, [None, self.output_size])\n",
        "    self.x_noisy = tf.placeholder(tf.float32, [None, self.output_size])\n",
        "    \n",
        "    # Usamos nuestro modelo encoder-decoder para obtener las reconstrucciones\n",
        "    x_hat = self.network.encoder_decoder(self.x_noisy, self.feature_size, self.output_size)\n",
        "\n",
        "    # Calculamos la función de pérdida;\n",
        "    if self.loss_type == \"mse\":\n",
        "      self.loss = self.losses.mean_squared_error(self.x, x_hat)\n",
        "    else:\n",
        "      self.loss = self.losses.binary_cross_entropy(self.x, x_hat)\n",
        "    \n",
        "    # Usamos la función que proporciona un Optimizer, luego usamos el\n",
        "    # optimizador para definir los pasos de entrenamiento. Haciendo una llamada\n",
        "    # a este método, realizará el proceso de optimización para el batch actual\n",
        "    optimizer = tf.train.AdamOptimizer(self.learning_rate)\n",
        "    train_op = optimizer.minimize(self.loss)\n",
        "    \n",
        "    # Inicializamos las variables globales\n",
        "    self.sess.run(tf.global_variables_initializer())\n",
        "    \n",
        "    # iteramos dado el número de épocas\n",
        "    for epoch in range(self.num_epochs):\n",
        "      print('Starting epoch %d' % (epoch + 1) )  \n",
        "      avg_train_loss = 0.\n",
        "            \n",
        "      # entrenamos el modelo para cada batch\n",
        "      for x_batch, y_batch in train_dset:\n",
        "        x_batch_noisy = x_batch + self.noise_factor * np.random.normal(0.0, 1.0, size=x_batch.shape) \n",
        "        # especificamos los valores de entrada para los placeholders\n",
        "        feed_dict = {self.x: x_batch, self.x_noisy: x_batch_noisy}\n",
        "        # Ejecutamos el grafo con el batch actual, realizamos el paso\n",
        "        # forward y backward (optimización)\n",
        "        _loss, _ = self.sess.run([self.loss, train_op], feed_dict=feed_dict)       \n",
        "        avg_train_loss += _loss\n",
        "      \n",
        "      # obtenemos el loss promedio de toda la data de entrenamiento\n",
        "      avg_train_loss /= train_dset.num_batches\n",
        "      \n",
        "      # fase de validación\n",
        "      avg_val_loss = self.evaluate(val_dset)\n",
        "      \n",
        "      # Periodicamente imprimimos la pérdida  \n",
        "      print('Epoch (%d/%d): Train Loss (%.3f) - Validation Loss (%.3f)\\n' % (epoch + 1, self.num_epochs, avg_train_loss, avg_val_loss))\n",
        "    \n",
        "    \n",
        "  def reconstruction(self, data):\n",
        "    ## Reconstrucción dado un conjunto de datos\n",
        "    # Usamos nuestro modelo encoder-decoder para obtener las reconstrucciones\n",
        "    data_noisy = data + self.noise_factor * np.random.normal(0.0, 1.0, size=data.shape) \n",
        "    x_hat = self.network.encoder_decoder(self.x, self.feature_size, self.output_size)\n",
        "    reconstruction = self.sess.run(x_hat, feed_dict={self.x:data, self.x_noisy:data_noisy})\n",
        "    return reconstruction, data_noisy\n",
        "  \n",
        "  \n",
        "  def latent_features_dataset(self, dataset):\n",
        "    ## Obtener caracteristicas aprendidas por el modelo\n",
        "    z = self.network.encoder(self.x, self.feature_size)\n",
        "    features = np.zeros((dataset.num_elements, self.feature_size))\n",
        "    it = 0\n",
        "    for x_batch, y_batch in dataset:\n",
        "      n = x_batch.shape[0]\n",
        "      features[it*n:it*n+n] = self.sess.run(z, feed_dict={self.x:x_batch})\n",
        "      it = it + 1\n",
        "    return features\n"
      ],
      "execution_count": 0,
      "outputs": []
    },
    {
      "cell_type": "markdown",
      "metadata": {
        "id": "iWYiXs8v8ZXX",
        "colab_type": "text"
      },
      "source": [
        "### Entrenamiento"
      ]
    },
    {
      "cell_type": "code",
      "metadata": {
        "id": "rAWIPFZY3l1O",
        "colab_type": "code",
        "outputId": "a33a99fc-1721-446b-e2dc-1f6d8b9669c4",
        "colab": {
          "base_uri": "https://localhost:8080/",
          "height": 538
        }
      },
      "source": [
        "denoising = DenoisingAutoencoder(learning_rate=1e-3, epochs=10, feature_size=64)\n",
        "denoising.train(train_dset, val_dset)"
      ],
      "execution_count": 39,
      "outputs": [
        {
          "output_type": "stream",
          "text": [
            "Starting epoch 1\n",
            "Epoch (1/10): Train Loss (0.033) - Validation Loss (0.022)\n",
            "\n",
            "Starting epoch 2\n",
            "Epoch (2/10): Train Loss (0.019) - Validation Loss (0.018)\n",
            "\n",
            "Starting epoch 3\n",
            "Epoch (3/10): Train Loss (0.017) - Validation Loss (0.017)\n",
            "\n",
            "Starting epoch 4\n",
            "Epoch (4/10): Train Loss (0.016) - Validation Loss (0.016)\n",
            "\n",
            "Starting epoch 5\n",
            "Epoch (5/10): Train Loss (0.015) - Validation Loss (0.016)\n",
            "\n",
            "Starting epoch 6\n",
            "Epoch (6/10): Train Loss (0.015) - Validation Loss (0.015)\n",
            "\n",
            "Starting epoch 7\n",
            "Epoch (7/10): Train Loss (0.015) - Validation Loss (0.015)\n",
            "\n",
            "Starting epoch 8\n",
            "Epoch (8/10): Train Loss (0.014) - Validation Loss (0.014)\n",
            "\n",
            "Starting epoch 9\n",
            "Epoch (9/10): Train Loss (0.014) - Validation Loss (0.014)\n",
            "\n",
            "Starting epoch 10\n",
            "Epoch (10/10): Train Loss (0.014) - Validation Loss (0.014)\n",
            "\n"
          ],
          "name": "stdout"
        }
      ]
    },
    {
      "cell_type": "markdown",
      "metadata": {
        "id": "ZVTZV5_I9Jrg",
        "colab_type": "text"
      },
      "source": [
        "## Reconstrucción de Imágenes\n",
        "\n",
        "A continuación visualizaremos las reconstrucciones aprendidas por nuestro modelo"
      ]
    },
    {
      "cell_type": "code",
      "metadata": {
        "id": "0O9Iej8-9MpW",
        "colab_type": "code",
        "outputId": "f0a1e75f-607e-46c1-e60c-5176c8b2ca17",
        "colab": {
          "base_uri": "https://localhost:8080/",
          "height": 306
        }
      },
      "source": [
        "def display_reconstructed_noisy(original, reconstructed, noisy, n=10):\n",
        "  plt.figure(figsize=[20,5])\n",
        "  for i in range(n):\n",
        "    plt.subplot(3, n, i + 1)\n",
        "    plt.imshow(original[i].reshape(28, 28))\n",
        "    plt.gray()\n",
        "    plt.axis('off')\n",
        "    \n",
        "    if noisy is not None:\n",
        "      plt.subplot(3, n, i + n + 1)\n",
        "      plt.imshow(noisy[i].reshape(28, 28))\n",
        "      plt.gray()\n",
        "      plt.axis('off')      \n",
        "    \n",
        "    if reconstructed is not None:\n",
        "      plt.subplot(3, n, i + 2 * n + 1 )\n",
        "      plt.imshow(reconstructed[i].reshape(28, 28))\n",
        "      plt.gray()\n",
        "      plt.axis('off')\n",
        "  plt.show()\n",
        "  \n",
        "x_test_batch = x_test[10:30]\n",
        "reconstructed, data_noisy = denoising.reconstruction(x_test_batch)  \n",
        "display_reconstructed_noisy(x_test_batch, reconstructed, data_noisy, 15)"
      ],
      "execution_count": 40,
      "outputs": [
        {
          "output_type": "display_data",
          "data": {
            "image/png": "[encoded data removed]",
            "text/plain": [
              "<Figure size 1440x360 with 45 Axes>"
            ]
          },
          "metadata": {
            "tags": []
          }
        }
      ]
    },
    {
      "cell_type": "markdown",
      "metadata": {
        "id": "WR36X75--GF-",
        "colab_type": "text"
      },
      "source": [
        "## Clustering"
      ]
    },
    {
      "cell_type": "code",
      "metadata": {
        "id": "00134DLh-KnU",
        "colab_type": "code",
        "outputId": "10cbc1b8-a06e-41c8-e9dc-94c21a228111",
        "colab": {
          "base_uri": "https://localhost:8080/",
          "height": 1059
        }
      },
      "source": [
        "denoising = DenoisingAutoencoder(learning_rate=1e-3, epochs=20, feature_size=num_components)\n",
        "denoising.train(train_dset, val_dset)"
      ],
      "execution_count": 41,
      "outputs": [
        {
          "output_type": "stream",
          "text": [
            "Starting epoch 1\n",
            "Epoch (1/20): Train Loss (0.032) - Validation Loss (0.021)\n",
            "\n",
            "Starting epoch 2\n",
            "Epoch (2/20): Train Loss (0.019) - Validation Loss (0.018)\n",
            "\n",
            "Starting epoch 3\n",
            "Epoch (3/20): Train Loss (0.017) - Validation Loss (0.017)\n",
            "\n",
            "Starting epoch 4\n",
            "Epoch (4/20): Train Loss (0.016) - Validation Loss (0.016)\n",
            "\n",
            "Starting epoch 5\n",
            "Epoch (5/20): Train Loss (0.015) - Validation Loss (0.016)\n",
            "\n",
            "Starting epoch 6\n",
            "Epoch (6/20): Train Loss (0.015) - Validation Loss (0.015)\n",
            "\n",
            "Starting epoch 7\n",
            "Epoch (7/20): Train Loss (0.015) - Validation Loss (0.015)\n",
            "\n",
            "Starting epoch 8\n",
            "Epoch (8/20): Train Loss (0.014) - Validation Loss (0.015)\n",
            "\n",
            "Starting epoch 9\n",
            "Epoch (9/20): Train Loss (0.014) - Validation Loss (0.015)\n",
            "\n",
            "Starting epoch 10\n",
            "Epoch (10/20): Train Loss (0.014) - Validation Loss (0.014)\n",
            "\n",
            "Starting epoch 11\n",
            "Epoch (11/20): Train Loss (0.014) - Validation Loss (0.014)\n",
            "\n",
            "Starting epoch 12\n",
            "Epoch (12/20): Train Loss (0.014) - Validation Loss (0.014)\n",
            "\n",
            "Starting epoch 13\n",
            "Epoch (13/20): Train Loss (0.013) - Validation Loss (0.014)\n",
            "\n",
            "Starting epoch 14\n",
            "Epoch (14/20): Train Loss (0.013) - Validation Loss (0.014)\n",
            "\n",
            "Starting epoch 15\n",
            "Epoch (15/20): Train Loss (0.013) - Validation Loss (0.014)\n",
            "\n",
            "Starting epoch 16\n",
            "Epoch (16/20): Train Loss (0.013) - Validation Loss (0.014)\n",
            "\n",
            "Starting epoch 17\n",
            "Epoch (17/20): Train Loss (0.013) - Validation Loss (0.014)\n",
            "\n",
            "Starting epoch 18\n",
            "Epoch (18/20): Train Loss (0.013) - Validation Loss (0.014)\n",
            "\n",
            "Starting epoch 19\n",
            "Epoch (19/20): Train Loss (0.013) - Validation Loss (0.013)\n",
            "\n",
            "Starting epoch 20\n",
            "Epoch (20/20): Train Loss (0.013) - Validation Loss (0.013)\n",
            "\n"
          ],
          "name": "stdout"
        }
      ]
    },
    {
      "cell_type": "markdown",
      "metadata": {
        "id": "EjlRYZoL-kDI",
        "colab_type": "text"
      },
      "source": [
        "Extraemos caracteristicas de nuestro denoising autoencoder."
      ]
    },
    {
      "cell_type": "code",
      "metadata": {
        "id": "eHpGnpYx-ofb",
        "colab_type": "code",
        "outputId": "e0a6476e-4168-4729-d1b9-fc59f9a2b2a9",
        "colab": {
          "base_uri": "https://localhost:8080/",
          "height": 69
        }
      },
      "source": [
        "deno_train_feat = denoising.latent_features_dataset(train_dset)\n",
        "deno_val_feat = denoising.latent_features_dataset(val_dset)\n",
        "deno_test_feat = denoising.latent_features_dataset(test_dset)\n",
        "\n",
        "print(\"Train Features: \", deno_train_feat.shape)\n",
        "print(\"Val Features: \", deno_val_feat.shape)\n",
        "print(\"Test Features: \", deno_test_feat.shape)"
      ],
      "execution_count": 42,
      "outputs": [
        {
          "output_type": "stream",
          "text": [
            "('Train Features: ', (48000, 300))\n",
            "('Val Features: ', (12000, 300))\n",
            "('Test Features: ', (10000, 300))\n"
          ],
          "name": "stdout"
        }
      ]
    },
    {
      "cell_type": "markdown",
      "metadata": {
        "id": "rQUNvhk5-5aC",
        "colab_type": "text"
      },
      "source": [
        "Entrenamos K-means y predecimos los clusters"
      ]
    },
    {
      "cell_type": "code",
      "metadata": {
        "id": "6KABXCUW-vqB",
        "colab_type": "code",
        "colab": {}
      },
      "source": [
        "kmeans = KMeans(n_clusters=10, n_init=10, n_jobs=-1)\n",
        "y_deno_kmeans_train = kmeans.fit_predict(deno_train_feat)\n",
        "y_deno_kmeans_val = kmeans.predict(deno_val_feat)\n",
        "y_deno_kmeans_test = kmeans.predict(deno_test_feat)"
      ],
      "execution_count": 0,
      "outputs": []
    },
    {
      "cell_type": "markdown",
      "metadata": {
        "id": "hP2-76aE-exS",
        "colab_type": "text"
      },
      "source": [
        "Evaluamos nuestro modelo de autoencoders con las métricas ACC y NMI"
      ]
    },
    {
      "cell_type": "code",
      "metadata": {
        "id": "yNI4XRvE-_9C",
        "colab_type": "code",
        "outputId": "13cc2277-c373-4cec-8de5-53a78a3e1040",
        "colab": {
          "base_uri": "https://localhost:8080/",
          "height": 69
        }
      },
      "source": [
        "print_clustering_metrics(y_deno_kmeans_train, y_train, y_deno_kmeans_val, y_val, y_deno_kmeans_test, y_test)"
      ],
      "execution_count": 44,
      "outputs": [
        {
          "output_type": "stream",
          "text": [
            "Train ACC: 0.609, NMI: 0.605\n",
            "Val ACC: 0.607, NMI: 0.601\n",
            "Test ACC: 0.609, NMI: 0.610\n"
          ],
          "name": "stdout"
        }
      ]
    },
    {
      "cell_type": "markdown",
      "metadata": {
        "id": "e8u9bZclBCS4",
        "colab_type": "text"
      },
      "source": [
        "## Clasificación"
      ]
    },
    {
      "cell_type": "markdown",
      "metadata": {
        "id": "rtkm31-WBwn6",
        "colab_type": "text"
      },
      "source": [
        "Compararemos las características de nuestro baseline con nuestros dos autoencoders en el problema de clasificación mediante K-Nearest Neighbor."
      ]
    },
    {
      "cell_type": "code",
      "metadata": {
        "id": "0IJ60is3B8Xf",
        "colab_type": "code",
        "colab": {}
      },
      "source": [
        "from sklearn.linear_model import LogisticRegression\n",
        "from sklearn.neighbors import KNeighborsClassifier\n",
        "#knn = LogisticRegression(n_jobs=-1)\n",
        "knn = KNeighborsClassifier(n_neighbors=3, algorithm='ball_tree', n_jobs=-1)"
      ],
      "execution_count": 0,
      "outputs": []
    },
    {
      "cell_type": "markdown",
      "metadata": {
        "id": "ddeCobzN6iIU",
        "colab_type": "text"
      },
      "source": [
        "Reducimos el número de características para poder ejecutar algoritmos de clasificación."
      ]
    },
    {
      "cell_type": "code",
      "metadata": {
        "id": "puQCem2X6r2K",
        "colab_type": "code",
        "outputId": "db42e17b-d009-40af-dafc-83a2615c75aa",
        "colab": {
          "base_uri": "https://localhost:8080/",
          "height": 69
        }
      },
      "source": [
        "##PCA\n",
        "num_components = 64\n",
        "pca = PCA(n_components=num_components).fit(train_std)\n",
        "\n",
        "pca_train_feat = pca.transform(train_std)\n",
        "pca_val_feat = pca.transform(val_std)\n",
        "pca_test_feat = pca.transform(test_std)\n",
        "\n",
        "print(\"PCA Train size: \", pca_train_feat.shape)\n",
        "print(\"PCA Val size: \", pca_val_feat.shape)\n",
        "print(\"PCA Test size: \", pca_test_feat.shape)"
      ],
      "execution_count": 46,
      "outputs": [
        {
          "output_type": "stream",
          "text": [
            "('PCA Train size: ', (48000, 64))\n",
            "('PCA Val size: ', (12000, 64))\n",
            "('PCA Test size: ', (10000, 64))\n"
          ],
          "name": "stdout"
        }
      ]
    },
    {
      "cell_type": "code",
      "metadata": {
        "id": "Ld5zLbcDCIxN",
        "colab_type": "code",
        "colab": {
          "base_uri": "https://localhost:8080/",
          "height": 590
        },
        "outputId": "c162139d-7618-45f5-eda4-cf2ddc7bd35c"
      },
      "source": [
        "##Autoencoder\n",
        "autoencoder = Autoencoder(learning_rate=1e-3, epochs=10, feature_size=num_components)\n",
        "autoencoder.train(train_dset, val_dset)\n",
        "\n",
        "ae_train_feat = autoencoder.latent_features_dataset(train_dset)\n",
        "ae_val_feat = autoencoder.latent_features_dataset(val_dset)\n",
        "ae_test_feat = autoencoder.latent_features_dataset(test_dset)\n",
        "\n",
        "print(\"AE Train Features: \", ae_train_feat.shape)\n",
        "print(\"AE Val Features: \", ae_val_feat.shape)\n",
        "print(\"AE Test Features: \", ae_test_feat.shape)"
      ],
      "execution_count": 47,
      "outputs": [
        {
          "output_type": "stream",
          "text": [
            "Starting epoch 1\n",
            "Epoch (1/10): Train Loss (0.023) - Validation Loss (0.011)\n",
            "\n",
            "Starting epoch 2\n",
            "Epoch (2/10): Train Loss (0.009) - Validation Loss (0.008)\n",
            "\n",
            "Starting epoch 3\n",
            "Epoch (3/10): Train Loss (0.007) - Validation Loss (0.007)\n",
            "\n",
            "Starting epoch 4\n",
            "Epoch (4/10): Train Loss (0.006) - Validation Loss (0.006)\n",
            "\n",
            "Starting epoch 5\n",
            "Epoch (5/10): Train Loss (0.005) - Validation Loss (0.005)\n",
            "\n",
            "Starting epoch 6\n",
            "Epoch (6/10): Train Loss (0.005) - Validation Loss (0.005)\n",
            "\n",
            "Starting epoch 7\n",
            "Epoch (7/10): Train Loss (0.004) - Validation Loss (0.005)\n",
            "\n",
            "Starting epoch 8\n",
            "Epoch (8/10): Train Loss (0.004) - Validation Loss (0.005)\n",
            "\n",
            "Starting epoch 9\n",
            "Epoch (9/10): Train Loss (0.004) - Validation Loss (0.004)\n",
            "\n",
            "Starting epoch 10\n",
            "Epoch (10/10): Train Loss (0.004) - Validation Loss (0.004)\n",
            "\n",
            "('AE Train Features: ', (48000, 64))\n",
            "('AE Val Features: ', (12000, 64))\n",
            "('AE Test Features: ', (10000, 64))\n"
          ],
          "name": "stdout"
        }
      ]
    },
    {
      "cell_type": "code",
      "metadata": {
        "id": "lqKDevHfCKPV",
        "colab_type": "code",
        "outputId": "8f2c8d29-fa96-4ca7-c485-0dfc234aab47",
        "colab": {
          "base_uri": "https://localhost:8080/",
          "height": 1111
        }
      },
      "source": [
        "##Denoising\n",
        "denoising = DenoisingAutoencoder(learning_rate=1e-3, epochs=20, feature_size=num_components)\n",
        "denoising.train(train_dset, val_dset)\n",
        "\n",
        "deno_train_feat = denoising.latent_features_dataset(train_dset)\n",
        "deno_val_feat = denoising.latent_features_dataset(val_dset)\n",
        "deno_test_feat = denoising.latent_features_dataset(test_dset)\n",
        "\n",
        "print(\"Denoising Train Features: \", deno_train_feat.shape)\n",
        "print(\"Denoising Val Features: \", deno_val_feat.shape)\n",
        "print(\"DenoisingTest Features: \", deno_test_feat.shape)"
      ],
      "execution_count": 48,
      "outputs": [
        {
          "output_type": "stream",
          "text": [
            "Starting epoch 1\n",
            "Epoch (1/20): Train Loss (0.032) - Validation Loss (0.021)\n",
            "\n",
            "Starting epoch 2\n",
            "Epoch (2/20): Train Loss (0.019) - Validation Loss (0.019)\n",
            "\n",
            "Starting epoch 3\n",
            "Epoch (3/20): Train Loss (0.017) - Validation Loss (0.017)\n",
            "\n",
            "Starting epoch 4\n",
            "Epoch (4/20): Train Loss (0.016) - Validation Loss (0.016)\n",
            "\n",
            "Starting epoch 5\n",
            "Epoch (5/20): Train Loss (0.015) - Validation Loss (0.016)\n",
            "\n",
            "Starting epoch 6\n",
            "Epoch (6/20): Train Loss (0.015) - Validation Loss (0.015)\n",
            "\n",
            "Starting epoch 7\n",
            "Epoch (7/20): Train Loss (0.015) - Validation Loss (0.015)\n",
            "\n",
            "Starting epoch 8\n",
            "Epoch (8/20): Train Loss (0.014) - Validation Loss (0.014)\n",
            "\n",
            "Starting epoch 9\n",
            "Epoch (9/20): Train Loss (0.014) - Validation Loss (0.014)\n",
            "\n",
            "Starting epoch 10\n",
            "Epoch (10/20): Train Loss (0.014) - Validation Loss (0.014)\n",
            "\n",
            "Starting epoch 11\n",
            "Epoch (11/20): Train Loss (0.014) - Validation Loss (0.014)\n",
            "\n",
            "Starting epoch 12\n",
            "Epoch (12/20): Train Loss (0.013) - Validation Loss (0.014)\n",
            "\n",
            "Starting epoch 13\n",
            "Epoch (13/20): Train Loss (0.013) - Validation Loss (0.014)\n",
            "\n",
            "Starting epoch 14\n",
            "Epoch (14/20): Train Loss (0.013) - Validation Loss (0.014)\n",
            "\n",
            "Starting epoch 15\n",
            "Epoch (15/20): Train Loss (0.013) - Validation Loss (0.013)\n",
            "\n",
            "Starting epoch 16\n",
            "Epoch (16/20): Train Loss (0.013) - Validation Loss (0.013)\n",
            "\n",
            "Starting epoch 17\n",
            "Epoch (17/20): Train Loss (0.013) - Validation Loss (0.013)\n",
            "\n",
            "Starting epoch 18\n",
            "Epoch (18/20): Train Loss (0.013) - Validation Loss (0.013)\n",
            "\n",
            "Starting epoch 19\n",
            "Epoch (19/20): Train Loss (0.013) - Validation Loss (0.013)\n",
            "\n",
            "Starting epoch 20\n",
            "Epoch (20/20): Train Loss (0.013) - Validation Loss (0.013)\n",
            "\n",
            "('Denoising Train Features: ', (48000, 64))\n",
            "('Denoising Val Features: ', (12000, 64))\n",
            "('DenoisingTest Features: ', (10000, 64))\n"
          ],
          "name": "stdout"
        }
      ]
    },
    {
      "cell_type": "markdown",
      "metadata": {
        "id": "mxVy4dbmCNTy",
        "colab_type": "text"
      },
      "source": [
        "### Baseline - PCA"
      ]
    },
    {
      "cell_type": "code",
      "metadata": {
        "id": "Eh0hsgrpCS7Q",
        "colab_type": "code",
        "colab": {}
      },
      "source": [
        "knn.fit(pca_train_feat, y_train) \n",
        "\n",
        "y_knn_pca_val = knn.predict(pca_val_feat)\n",
        "y_knn_pca_test = knn.predict(pca_test_feat)"
      ],
      "execution_count": 0,
      "outputs": []
    },
    {
      "cell_type": "markdown",
      "metadata": {
        "id": "YYI_uO6FCypd",
        "colab_type": "text"
      },
      "source": [
        "Evaluamos nuestro modelo con accuracy."
      ]
    },
    {
      "cell_type": "code",
      "metadata": {
        "id": "BR5Am_D3Cqm0",
        "colab_type": "code",
        "outputId": "3ab6dda7-b011-4dd0-c716-4bb2f16eca82",
        "colab": {
          "base_uri": "https://localhost:8080/",
          "height": 34
        }
      },
      "source": [
        "from sklearn.metrics import accuracy_score\n",
        "pca_val_acc = accuracy_score(y_knn_pca_val, y_val)\n",
        "pca_test_acc = accuracy_score(y_knn_pca_test, y_test)\n",
        "print(\"KNN-PCA - Val Accuracy: %.3lf; Test Accuracy: %.3lf\" % (pca_val_acc, pca_test_acc) )"
      ],
      "execution_count": 50,
      "outputs": [
        {
          "output_type": "stream",
          "text": [
            "KNN-PCA - Val Accuracy: 0.960; Test Accuracy: 0.956\n"
          ],
          "name": "stdout"
        }
      ]
    },
    {
      "cell_type": "markdown",
      "metadata": {
        "id": "0K7ZARQeDuWF",
        "colab_type": "text"
      },
      "source": [
        "### Vanilla Autoencoder"
      ]
    },
    {
      "cell_type": "code",
      "metadata": {
        "id": "L7PKjNyeDzye",
        "colab_type": "code",
        "colab": {}
      },
      "source": [
        "knn.fit(ae_train_feat, y_train) \n",
        "y_knn_ae_val = knn.predict(ae_val_feat)\n",
        "y_knn_ae_test = knn.predict(ae_test_feat)"
      ],
      "execution_count": 0,
      "outputs": []
    },
    {
      "cell_type": "code",
      "metadata": {
        "id": "LFJmuhefD-_G",
        "colab_type": "code",
        "outputId": "e09b51fb-f9c4-4e9b-8b78-ef3f853aba2a",
        "colab": {
          "base_uri": "https://localhost:8080/",
          "height": 34
        }
      },
      "source": [
        "from sklearn.metrics import accuracy_score\n",
        "ae_val_acc = accuracy_score(y_knn_ae_val, y_val)\n",
        "ae_test_acc = accuracy_score(y_knn_ae_test, y_test)\n",
        "print(\"KNN-AE - Val Accuracy: %.3lf; Test Accuracy: %.3lf\" % (ae_val_acc, ae_test_acc) )"
      ],
      "execution_count": 52,
      "outputs": [
        {
          "output_type": "stream",
          "text": [
            "KNN-AE - Val Accuracy: 0.971; Test Accuracy: 0.966\n"
          ],
          "name": "stdout"
        }
      ]
    },
    {
      "cell_type": "markdown",
      "metadata": {
        "id": "OGI-rTzrENYN",
        "colab_type": "text"
      },
      "source": [
        "### Denoising Autoencoder"
      ]
    },
    {
      "cell_type": "code",
      "metadata": {
        "id": "EI-qIcy-EPev",
        "colab_type": "code",
        "colab": {}
      },
      "source": [
        "knn.fit(deno_train_feat, y_train) \n",
        "y_knn_deno_val = knn.predict(deno_val_feat)\n",
        "y_knn_deno_test = knn.predict(deno_test_feat)"
      ],
      "execution_count": 0,
      "outputs": []
    },
    {
      "cell_type": "code",
      "metadata": {
        "id": "gY10H0TyIOZ-",
        "colab_type": "code",
        "outputId": "882a7ef5-6e23-4819-bf54-16bf8fb6cef9",
        "colab": {
          "base_uri": "https://localhost:8080/",
          "height": 34
        }
      },
      "source": [
        "from sklearn.metrics import accuracy_score\n",
        "deno_val_acc = accuracy_score(y_knn_deno_val, y_val)\n",
        "deno_test_acc = accuracy_score(y_knn_deno_test, y_test)\n",
        "print(\"KNN-DenAE - Val Accuracy: %.3lf; Test Accuracy: %.3lf\" % (deno_val_acc, deno_test_acc) )"
      ],
      "execution_count": 54,
      "outputs": [
        {
          "output_type": "stream",
          "text": [
            "KNN-DenAE - Val Accuracy: 0.974; Test Accuracy: 0.969\n"
          ],
          "name": "stdout"
        }
      ]
    }
  ]
}